{
 "cells": [
  {
   "cell_type": "code",
   "execution_count": 15,
   "id": "c91908da",
   "metadata": {},
   "outputs": [
    {
     "name": "stdout",
     "output_type": "stream",
     "text": [
      "★★★★★★★★★★★\n",
      "★ 数据科学与工程导论 ★\n",
      "★★★★★★★★★★★\n"
     ]
    }
   ],
   "source": [
    "print(chr(0x2605)*11)\n",
    "print(chr(0x2605),\"数据科学与工程导论\",chr(0x2605))\n",
    "print(chr(0x2605)*11)"
   ]
  },
  {
   "cell_type": "code",
   "execution_count": 18,
   "id": "891ee38f",
   "metadata": {},
   "outputs": [
    {
     "name": "stdout",
     "output_type": "stream",
     "text": [
      "请输入x的值:45\n",
      "请输入y的值:12\n",
      "请输入z的值:43.1\n",
      "12.0 43.1 45.0\n"
     ]
    }
   ],
   "source": [
    "x=float(input(\"请输入x的值:\"))\n",
    "y=float(input(\"请输入y的值:\"))\n",
    "z=float(input(\"请输入z的值:\"))\n",
    "if x<=y:\n",
    "    if x<=z:\n",
    "        if z<=y:\n",
    "            print(x,z,y)\n",
    "        else:\n",
    "            print(x,y,z)\n",
    "    else:\n",
    "        print(z,x,y)\n",
    "elif x>y:\n",
    "    if x>z:\n",
    "        if z>y:\n",
    "            print(y,z,x)\n",
    "        elif z<y:\n",
    "            print(z,y,x)\n",
    "    else:\n",
    "        print(y,x,z)"
   ]
  },
  {
   "cell_type": "code",
   "execution_count": 20,
   "id": "e5aad0e8",
   "metadata": {},
   "outputs": [
    {
     "name": "stdout",
     "output_type": "stream",
     "text": [
      "请输入a的值:56\n",
      "请输入b的值:23\n",
      "请输入c的值:47\n",
      "请输入d的值:19\n",
      "56.0 47.0 23.0 19.0\n"
     ]
    }
   ],
   "source": [
    "a=float(input(\"请输入a的值:\"))\n",
    "b=float(input(\"请输入b的值:\"))\n",
    "c=float(input(\"请输入c的值:\"))\n",
    "d=float(input(\"请输入d的值:\"))\n",
    "a,b,c,d=sorted([a,b,c,d])\n",
    "print(d,c,b,a)"
   ]
  },
  {
   "cell_type": "code",
   "execution_count": 26,
   "id": "c9b432d2",
   "metadata": {},
   "outputs": [
    {
     "name": "stdout",
     "output_type": "stream",
     "text": [
      "1\n",
      "3\n",
      "5\n",
      "7\n",
      "9\n",
      "11\n",
      "13\n",
      "15\n",
      "17\n",
      "19\n",
      "21\n",
      "23\n",
      "25\n",
      "27\n",
      "29\n",
      "31\n",
      "33\n",
      "35\n",
      "37\n",
      "39\n",
      "41\n",
      "43\n",
      "45\n",
      "47\n",
      "49\n",
      "51\n",
      "53\n",
      "55\n",
      "57\n",
      "59\n",
      "61\n",
      "63\n",
      "65\n",
      "67\n",
      "69\n",
      "71\n",
      "73\n",
      "75\n",
      "77\n",
      "79\n",
      "81\n",
      "83\n",
      "85\n",
      "87\n",
      "89\n",
      "91\n",
      "93\n",
      "95\n",
      "97\n",
      "99\n"
     ]
    }
   ],
   "source": [
    "for i in range (1,101):\n",
    "    if i%2==1:\n",
    "        print(i)"
   ]
  },
  {
   "cell_type": "code",
   "execution_count": 27,
   "id": "2e4dbdac",
   "metadata": {},
   "outputs": [
    {
     "name": "stdout",
     "output_type": "stream",
     "text": [
      "5050\n"
     ]
    }
   ],
   "source": [
    "sum=0\n",
    "for i in range (1,101):\n",
    "    sum=sum+i\n",
    "print(sum)"
   ]
  },
  {
   "cell_type": "code",
   "execution_count": 31,
   "id": "c974c1e0",
   "metadata": {},
   "outputs": [
    {
     "name": "stdout",
     "output_type": "stream",
     "text": [
      "[5, 4, 3, 2, 1]\n",
      "[5, 4, 3, 2, 1]\n"
     ]
    }
   ],
   "source": [
    "L=[1,2,3,4,5]\n",
    "l=[]\n",
    "for i in range(1,6):\n",
    "    l.append(L[5-i])\n",
    "print(l)\n",
    "s=[]\n",
    "j=4\n",
    "while (j>=0):\n",
    "    s.append(L[j])\n",
    "    j=j-1\n",
    "print(s)"
   ]
  },
  {
   "cell_type": "code",
   "execution_count": 41,
   "id": "4777715c",
   "metadata": {},
   "outputs": [
    {
     "name": "stdout",
     "output_type": "stream",
     "text": [
      "请输入一串字符串:asd\n",
      "s不包含由两个或两个以上连续出现的相同字符\n"
     ]
    }
   ],
   "source": [
    "s=input(\"请输入一串字符串:\")\n",
    "l=len(s)\n",
    "judge=0\n",
    "for i in range(0,l-1):\n",
    "    if (s[i]==s[i+1]):\n",
    "        judge=1\n",
    "        print(\"s包含由两个或两个以上连续出现的相同字符\")\n",
    "        break\n",
    "if (judge==0):\n",
    "    print(\"s不包含由两个或两个以上连续出现的相同字符\")"
   ]
  },
  {
   "cell_type": "code",
   "execution_count": 46,
   "id": "e029ebb2",
   "metadata": {},
   "outputs": [
    {
     "name": "stdout",
     "output_type": "stream",
     "text": [
      "请输入一段字符串:DataScience and Engineering\n",
      "DataScienceandEngineering"
     ]
    }
   ],
   "source": [
    "s=input(\"请输入一段字符串:\")\n",
    "s1=[]\n",
    "l=len(s)\n",
    "for i in range (0,l):\n",
    "    if s[i]!=\" \":\n",
    "        s1.append(s[i])\n",
    "for j in range(0,len(s1)):\n",
    "    print(s1[j],end=\"\")"
   ]
  },
  {
   "cell_type": "code",
   "execution_count": 49,
   "id": "b29f02c9",
   "metadata": {},
   "outputs": [
    {
     "name": "stdout",
     "output_type": "stream",
     "text": [
      "请输入一个正数:27\n",
      "3.0\n"
     ]
    }
   ],
   "source": [
    "def cube_root(a, tol=1e-10, max_iter=100):  \n",
    " \n",
    "    if a == 0:  \n",
    "        return 0  \n",
    "      \n",
    "    # 初始猜测值，可以取a的任意非零值，这里简单取a/2  \n",
    "    x = a / 2.0  \n",
    "      \n",
    "    for _ in range(max_iter):  \n",
    "        # 计算下一个迭代值  \n",
    "        next_x = (2 * x + a / (x ** 2)) / 3  \n",
    "          \n",
    "        # 检查是否满足收敛条件  \n",
    "        if abs(x - next_x) < tol:  \n",
    "            return next_x  \n",
    "          \n",
    "        # 更新x为下一个迭代值  \n",
    "        x = next_x  \n",
    "      \n",
    "    # 如果迭代次数达到上限仍未收敛，则抛出异常  \n",
    "    raise ValueError(\"Newton's method did not converge after {} iterations.\".format(max_iter))  \n",
    "\n",
    "x=int(input(\"请输入一个正数:\"))\n",
    "print(cube_root(x))"
   ]
  },
  {
   "cell_type": "code",
   "execution_count": 47,
   "id": "4b8ee643",
   "metadata": {},
   "outputs": [
    {
     "name": "stdout",
     "output_type": "stream",
     "text": [
      "请输入一个正整数值:5\n",
      "120\n"
     ]
    }
   ],
   "source": [
    "x=int(input(\"请输入一个正整数值:\"))\n",
    "if x==0:\n",
    "    print(1)\n",
    "else:\n",
    "    sum=1;\n",
    "    while(x>0):\n",
    "        sum=sum*x;\n",
    "        x=x-1\n",
    "    print(sum)"
   ]
  },
  {
   "cell_type": "code",
   "execution_count": null,
   "id": "55a6796b",
   "metadata": {},
   "outputs": [],
   "source": []
  }
 ],
 "metadata": {
  "kernelspec": {
   "display_name": "Python 3",
   "language": "python",
   "name": "python3"
  },
  "language_info": {
   "codemirror_mode": {
    "name": "ipython",
    "version": 3
   },
   "file_extension": ".py",
   "mimetype": "text/x-python",
   "name": "python",
   "nbconvert_exporter": "python",
   "pygments_lexer": "ipython3",
   "version": "3.8.8"
  }
 },
 "nbformat": 4,
 "nbformat_minor": 5
}
