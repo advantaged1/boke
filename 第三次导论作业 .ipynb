{
 "cells": [
  {
   "cell_type": "raw",
   "id": "4dedbc91",
   "metadata": {},
   "source": [
    "1.编写 Python程序,判断输入a是否为质数"
   ]
  },
  {
   "cell_type": "code",
   "execution_count": 1,
   "id": "180af9e3",
   "metadata": {},
   "outputs": [
    {
     "name": "stdout",
     "output_type": "stream",
     "text": [
      "请输入一个正整数：34\n",
      "不是质数\n"
     ]
    }
   ],
   "source": [
    "a=int(input(\"请输入一个正整数：\"))\n",
    "if a==1:\n",
    "    print(\"是质数\")\n",
    "elif a==2:\n",
    "    print(\"是质数\")\n",
    "else:\n",
    "    count=0\n",
    "    for i in range(2,a):\n",
    "        if a%i==0:\n",
    "            count=count+1\n",
    "    if count>=1:\n",
    "        print(\"不是质数\")\n",
    "    elif count==0:\n",
    "        print(\"是质数\")\n",
    "        "
   ]
  },
  {
   "cell_type": "raw",
   "id": "519b9935",
   "metadata": {},
   "source": [
    "2.用Python实现插入排序该算法，不允许直接调用插入排序函数，需要手动实现其逻辑过程。"
   ]
  },
  {
   "cell_type": "code",
   "execution_count": 3,
   "id": "5a163310",
   "metadata": {},
   "outputs": [
    {
     "name": "stdout",
     "output_type": "stream",
     "text": [
      "[1, 2, 3, 10]\n"
     ]
    }
   ],
   "source": [
    "def test(arr):\n",
    "    a=len(arr)\n",
    "    for i in range(1,a):\n",
    "        k=i\n",
    "        for j in range(0,i):  \n",
    "            if arr[k]<arr[k-1]:\n",
    "                temp=arr[k]\n",
    "                arr[k]=arr[k-1]\n",
    "                arr[k-1]=temp\n",
    "                k=k-1\n",
    "    print(arr)\n",
    "test([3,2,1,10])"
   ]
  },
  {
   "cell_type": "raw",
   "id": "4616933b",
   "metadata": {},
   "source": [
    "3.用Python实现选择排序该算法，不允许直接调用插入排序函数，需要手动实现其逻辑过程。"
   ]
  },
  {
   "cell_type": "code",
   "execution_count": 9,
   "id": "0a48fd39",
   "metadata": {},
   "outputs": [
    {
     "name": "stdout",
     "output_type": "stream",
     "text": [
      "[0, 1, 2, 3, 6, 8, 10, 12]\n"
     ]
    }
   ],
   "source": [
    "def select_sort(arr):\n",
    "    a=len(arr)\n",
    "    for i in range(0,a):\n",
    "        for j in range(0,a-1):\n",
    "            if arr[j]>arr[j+1]:\n",
    "                temp=arr[j]\n",
    "                arr[j]=arr[j+1]\n",
    "                arr[j+1]=temp\n",
    "    return arr\n",
    "arr=[3,6,0,10,8,12,1,2]\n",
    "select_sort(arr)\n",
    "print(arr)"
   ]
  },
  {
   "cell_type": "raw",
   "id": "b5025c06",
   "metadata": {},
   "source": [
    "4.用Python实现快速排序该算法，不允许直接调用插入排序函数，需要手动实现其逻辑过程。"
   ]
  },
  {
   "cell_type": "code",
   "execution_count": 4,
   "id": "b46859c4",
   "metadata": {},
   "outputs": [
    {
     "name": "stdout",
     "output_type": "stream",
     "text": [
      "[1, 1, 2, 3, 6, 8, 10]\n"
     ]
    }
   ],
   "source": [
    "def quicksort_inplace(arr, low, high):  \n",
    "    if low < high:  \n",
    "        # 分区操作，返回基准元素的索引  \n",
    "        pivot_index = partition(arr, low, high)  \n",
    "        # 递归排序基准元素左侧和右侧的子数组  \n",
    "        quicksort_inplace(arr, low, pivot_index - 1)  \n",
    "        quicksort_inplace(arr, pivot_index + 1, high)  \n",
    "  \n",
    "def partition(arr, low, high):  \n",
    "    pivot = arr[high]  # 选择最右边的元素作为基准  \n",
    "    i = low - 1  # 较小元素的索引  \n",
    "    for j in range(low, high):  \n",
    "        if arr[j] <= pivot:  \n",
    "            i += 1  \n",
    "            # 交换元素，将较小元素移到左侧  \n",
    "            arr[i], arr[j] = arr[j], arr[i]  \n",
    "    # 将基准元素放到正确位置  \n",
    "    arr[i + 1], arr[high] = arr[high], arr[i + 1]  \n",
    "    return i + 1  \n",
    "  \n",
    "# 测试快速排序算法  \n",
    "test_array = [3, 6, 8, 10, 1, 2, 1]  \n",
    "quicksort_inplace(test_array, 0, len(test_array) - 1)  \n",
    "print(test_array)  # 输出: [1, 1, 2, 3, 6, 8, 10]"
   ]
  },
  {
   "cell_type": "raw",
   "id": "f72fd63c",
   "metadata": {},
   "source": [
    "5.使用 Python 随机生成三组长度递增的随机数列，长度分别为100、1000、10000，对生成的随机数组使用不同的排序算法，例如选择排序和归并排序，至少三种排序方法。对这些数列的数据排序，并分析不同排序算法在不同长度数列下的运行效果，例如运行时间等指标。"
   ]
  },
  {
   "cell_type": "code",
   "execution_count": 11,
   "id": "7772f780",
   "metadata": {},
   "outputs": [
    {
     "name": "stdout",
     "output_type": "stream",
     "text": [
      "快速排序程序运行时间为: 0.00032279999959428096 秒\n",
      "选择排序程序运行时间为: 0.0006903000003148918 秒\n",
      "插入排序程序运行时间为: 0.0009105999997700565 秒\n",
      "\n",
      "\n",
      "快速排序程序运行时间为: 0.00370429999929911 秒\n",
      "选择排序程序运行时间为: 0.042298399999708636 秒\n",
      "插入排序程序运行时间为: 0.05239730000084819 秒\n",
      "\n",
      "\n",
      "快速排序程序运行时间为: 0.13277770000058808 秒\n",
      "选择排序程序运行时间为: 3.9692989000004673 秒\n",
      "插入排序程序运行时间为: 5.667796100000487 秒\n"
     ]
    }
   ],
   "source": [
    "import random\n",
    "import time\n",
    "def quicksort_inplace(arr, low, high):  \n",
    "    if low < high:  \n",
    "        pivot_index = partition(arr, low, high)  \n",
    "        quicksort_inplace(arr, low, pivot_index - 1)  \n",
    "        quicksort_inplace(arr, pivot_index + 1, high)  \n",
    "  \n",
    "def partition(arr, low, high):  \n",
    "    pivot = arr[high]    \n",
    "    i = low - 1  \n",
    "    for j in range(low, high):  \n",
    "        if arr[j] <= pivot:  \n",
    "            i += 1  \n",
    "            arr[i], arr[j] = arr[j], arr[i]  \n",
    "    arr[i + 1], arr[high] = arr[high], arr[i + 1]  \n",
    "    return i + 1  \n",
    "\n",
    "def select_sort(arr):  \n",
    "    a = len(arr)  \n",
    "    for i in range(a):  \n",
    "        # 假设当前元素为最小值  \n",
    "        min_idx = i  \n",
    "        for j in range(i+1, a):  \n",
    "            if arr[j] < arr[min_idx]:  \n",
    "                min_idx = j  \n",
    "        # 将找到的最小值与当前位置的值交换  \n",
    "        arr[i], arr[min_idx] = arr[min_idx], arr[i]  \n",
    "    return arr\n",
    "\n",
    "def insert_sort(arr):\n",
    "    a=len(arr)\n",
    "    for i in range(1,a):\n",
    "        k=i\n",
    "        for j in range(0,i):  \n",
    "            if arr[k]<arr[k-1]:\n",
    "                temp=arr[k]\n",
    "                arr[k]=arr[k-1]\n",
    "                arr[k-1]=temp\n",
    "                k=k-1\n",
    "    return arr\n",
    "\n",
    "arr1=[random.randint(0,100) for _ in range(100)]\n",
    "arr2=[random.randint(0,100) for _ in range(1000)]\n",
    "arr3=[random.randint(0,100) for _ in range(10000)]\n",
    "\n",
    "start=time.perf_counter()\n",
    "quicksort_inplace(arr1,0,99)\n",
    "end=time.perf_counter()\n",
    "print(f\"快速排序程序运行时间为: {end - start} 秒\")\n",
    "start=time.perf_counter()\n",
    "select_sort(arr1)\n",
    "end=time.perf_counter()\n",
    "print(f\"选择排序程序运行时间为: {end - start} 秒\")\n",
    "start=time.perf_counter()\n",
    "insert_sort(arr1)\n",
    "end=time.perf_counter()\n",
    "print(f\"插入排序程序运行时间为: {end - start} 秒\")\n",
    "print(\"\\n\")\n",
    "\n",
    "\n",
    "start=time.perf_counter()\n",
    "quicksort_inplace(arr2,0,999)\n",
    "end=time.perf_counter()\n",
    "print(f\"快速排序程序运行时间为: {end - start} 秒\")\n",
    "start=time.perf_counter()\n",
    "select_sort(arr2)\n",
    "end=time.perf_counter()\n",
    "print(f\"选择排序程序运行时间为: {end - start} 秒\")\n",
    "start=time.perf_counter()\n",
    "insert_sort(arr2)\n",
    "end=time.perf_counter()\n",
    "print(f\"插入排序程序运行时间为: {end - start} 秒\")\n",
    "print(\"\\n\")\n",
    "\n",
    "start=time.perf_counter()\n",
    "quicksort_inplace(arr3,0,9999)\n",
    "end=time.perf_counter()\n",
    "print(f\"快速排序程序运行时间为: {end - start} 秒\")\n",
    "start=time.perf_counter()\n",
    "select_sort(arr3)\n",
    "end=time.perf_counter()\n",
    "print(f\"选择排序程序运行时间为: {end - start} 秒\")\n",
    "start=time.perf_counter()\n",
    "insert_sort(arr3)\n",
    "end=time.perf_counter()\n",
    "print(f\"插入排序程序运行时间为: {end - start} 秒\")\n",
    "\n"
   ]
  },
  {
   "cell_type": "raw",
   "id": "c00f1127",
   "metadata": {},
   "source": [
    "从上面的三个数组在不同排序算法的运行时间上看，快速排序运行速度最快 ，选择排序其次，插入排序最慢，因此如果以运行时间作为评判算法的标准，那么快速排序性能最好，其次是选择排序，插入排序的性能最差"
   ]
  },
  {
   "cell_type": "raw",
   "id": "79df1a7c",
   "metadata": {},
   "source": [
    "6.使用python代码获取当前系统时间"
   ]
  },
  {
   "cell_type": "code",
   "execution_count": 5,
   "id": "973af476",
   "metadata": {},
   "outputs": [
    {
     "name": "stdout",
     "output_type": "stream",
     "text": [
      "2024-10-15 14:10:23.256457\n"
     ]
    }
   ],
   "source": [
    "import datetime\n",
    "now=datetime.datetime.now()\n",
    "print(now)"
   ]
  },
  {
   "cell_type": "raw",
   "id": "0bca0de6",
   "metadata": {},
   "source": [
    "7.homework/data文件夹下的stuGrade.csv文件中包含5位同学的学号、语文成绩、数学成绩和英语成绩，请先用记事本打开该文件，查看文件内容，然后编写Python程序，读取该文件，并计算出各科的平均成绩（保留2位小数）。"
   ]
  },
  {
   "cell_type": "code",
   "execution_count": 12,
   "id": "89414168",
   "metadata": {},
   "outputs": [
    {
     "name": "stdout",
     "output_type": "stream",
     "text": [
      "学生ID: 10381, 平均成绩: 81.00\n",
      "学生ID: 10382, 平均成绩: 90.00\n",
      "学生ID: 10383, 平均成绩: 83.33\n",
      "学生ID: 10384, 平均成绩: 97.00\n",
      "学生ID: 10385, 平均成绩: 57.67\n"
     ]
    }
   ],
   "source": [
    "import csv  \n",
    "file_path = r\"C:\\Users\\86178\\Downloads\\stuGrade.csv\"  \n",
    "  \n",
    "# 初始化一个空列表来存储学生数据  \n",
    "students = []  \n",
    "  \n",
    "# 打开CSV文件并读取内容  \n",
    "with open(file_path, mode='r', newline='', encoding='utf-8') as file:  \n",
    "    csv_reader = csv.reader(file)  \n",
    "    # 跳过标题行（如果需要的话）  \n",
    "    headers = next(csv_reader)  # 这行代码会读取并忽略第一行（标题行）  \n",
    "      \n",
    "    # 遍历CSV文件的每一行（每一行代表一个学生）  \n",
    "    for row in csv_reader:  \n",
    "        # 将每一行的数据转换为一个字典（可选，但便于后续处理）  \n",
    "        # 注意：这里我们假设CSV文件的列顺序是固定的，并且与headers对应  \n",
    "        student = {  \n",
    "            'stuID': row[0],  \n",
    "            'chinese': int(row[1]),  \n",
    "            'math': int(row[2]),  \n",
    "            'english': int(row[3])  \n",
    "        }  \n",
    "        # 计算平均成绩并添加到字典中  \n",
    "        student['average'] = (student['chinese'] + student['math'] + student['english']) / 3  \n",
    "        # 将学生数据添加到列表中  \n",
    "        students.append(student)  \n",
    "  \n",
    "# 打印学生数据及其平均成绩  \n",
    "for student in students:  \n",
    "    print(f\"学生ID: {student['stuID']}, 平均成绩: {student['average']:.2f}\")"
   ]
  },
  {
   "cell_type": "raw",
   "id": "3f4bf6a3",
   "metadata": {},
   "source": [
    "8.请在第7题的代码继续编写Python程序，将以下内容写入my.txt文件中，一并上传到github中。\n",
    "第1行：你的学号和姓名\n",
    "\n",
    "第2行：3门课程的平均成绩（任意课程），保留2位小数，以英文逗号间隔\n",
    "\n",
    "第3行：系统当前时间，格式例如2020-01-01 12:00:00\n",
    "\n",
    "第4行：两秒后的系统当前时间（利用sleep()方法）"
   ]
  },
  {
   "cell_type": "code",
   "execution_count": 14,
   "id": "b688078f",
   "metadata": {},
   "outputs": [
    {
     "name": "stdout",
     "output_type": "stream",
     "text": [
      "学生平均成绩已写入文件: C:\\Users\\86178\\Downloads\\my.txt\n"
     ]
    }
   ],
   "source": [
    "import csv  \n",
    "  \n",
    "file_path = r\"C:\\Users\\86178\\Downloads\\stuGrade.csv\"  \n",
    "output_file_path = r\"C:\\Users\\86178\\Downloads\\my.txt\"  # 定义输出TXT文件路径  \n",
    "  \n",
    "# 初始化一个空列表来存储学生数据  \n",
    "students = []  \n",
    "  \n",
    "# 打开CSV文件并读取内容  \n",
    "with open(file_path, mode='r', newline='', encoding='utf-8') as file:  \n",
    "    csv_reader = csv.reader(file)  \n",
    "    # 跳过标题行（如果需要的话）  \n",
    "    headers = next(csv_reader)  # 这行代码会读取并忽略第一行（标题行）  \n",
    "  \n",
    "    # 遍历CSV文件的每一行（每一行代表一个学生）  \n",
    "    for row in csv_reader:  \n",
    "        # 将每一行的数据转换为一个字典  \n",
    "        student = {  \n",
    "            'stuID': row[0],  \n",
    "            'chinese': int(row[1]),  \n",
    "            'math': int(row[2]),  \n",
    "            'english': int(row[3])  \n",
    "        }  \n",
    "        # 计算平均成绩并添加到字典中  \n",
    "        student['average'] = (student['chinese'] + student['math'] + student['english']) / 3  \n",
    "        # 将学生数据添加到列表中  \n",
    "        students.append(student)  \n",
    "  \n",
    "\n",
    "with open(output_file_path, mode='w', encoding='utf-8') as txt_file:  \n",
    "    # 写入标题 \n",
    "    txt_file.write('学生ID,平均成绩\\n')  \n",
    "  \n",
    "    # 遍历学生数据并写入文件  \n",
    "    for student in students:  \n",
    "        # 格式化输出字符串，确保平均成绩保留两位小数  \n",
    "        line = f\"{student['stuID']},{student['average']:.2f}\\n\"  \n",
    "        txt_file.write(line)  \n",
    "  \n",
    "print(f\"学生平均成绩已写入文件: {output_file_path}\")"
   ]
  }
 ],
 "metadata": {
  "kernelspec": {
   "display_name": "Python 3",
   "language": "python",
   "name": "python3"
  },
  "language_info": {
   "codemirror_mode": {
    "name": "ipython",
    "version": 3
   },
   "file_extension": ".py",
   "mimetype": "text/x-python",
   "name": "python",
   "nbconvert_exporter": "python",
   "pygments_lexer": "ipython3",
   "version": "3.8.8"
  }
 },
 "nbformat": 4,
 "nbformat_minor": 5
}
