{
 "cells": [
  {
   "cell_type": "raw",
   "id": "b4fe2faf",
   "metadata": {},
   "source": [
    "对于本次作业，我采用的是决策树"
   ]
  },
  {
   "cell_type": "code",
   "execution_count": 1,
   "id": "0f7d9f1e",
   "metadata": {},
   "outputs": [
    {
     "name": "stdout",
     "output_type": "stream",
     "text": [
      "Decision Tree F1 Score: 0.8631\n"
     ]
    }
   ],
   "source": [
    "import pandas as pd  \n",
    "from sklearn.model_selection import train_test_split  \n",
    "from sklearn.impute import SimpleImputer  \n",
    "from sklearn.metrics import f1_score  \n",
    "from sklearn.tree import DecisionTreeClassifier  \n",
    "\n",
    "# 加载数据  \n",
    "data = pd.read_csv(r\"C:\\Users\\86178\\Downloads\\fraudulent.csv\")  \n",
    "\n",
    "# 使用众数填充缺失值  \n",
    "imputer = SimpleImputer(strategy='most_frequent')  \n",
    "data_imputed = pd.DataFrame(imputer.fit_transform(data), columns=data.columns)  \n",
    "\n",
    "# 分离特征和标签  \n",
    "X = data_imputed.drop(columns=['y'])  \n",
    "y = data_imputed['y']  \n",
    "\n",
    "# 分割数据集为训练集和测试集  \n",
    "X_train, X_test, y_train, y_test = train_test_split(X, y, test_size=0.2, random_state=1)\n",
    "\n",
    "\n",
    "# 初始化决策树模型  \n",
    "dt_model = DecisionTreeClassifier()  \n",
    "\n",
    "# 训练模型  \n",
    "dt_model.fit(X_train, y_train)  \n",
    "\n",
    "# 预测  \n",
    "y_pred_dt = dt_model.predict(X_test)  \n",
    "\n",
    "# 计算 F1 值  \n",
    "f1_dt = f1_score(y_test, y_pred_dt)  \n",
    "print(f'Decision Tree F1 Score: {f1_dt:.4f}')"
   ]
  }
 ],
 "metadata": {
  "kernelspec": {
   "display_name": "Python 3 (ipykernel)",
   "language": "python",
   "name": "python3"
  },
  "language_info": {
   "codemirror_mode": {
    "name": "ipython",
    "version": 3
   },
   "file_extension": ".py",
   "mimetype": "text/x-python",
   "name": "python",
   "nbconvert_exporter": "python",
   "pygments_lexer": "ipython3",
   "version": "3.11.5"
  }
 },
 "nbformat": 4,
 "nbformat_minor": 5
}
