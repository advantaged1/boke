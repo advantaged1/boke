{
 "cells": [
  {
   "cell_type": "raw",
   "id": "c1f7c519",
   "metadata": {},
   "source": [
    "1. 编写 Python 程序，求两个正整数的最大公约数。"
   ]
  },
  {
   "cell_type": "code",
   "execution_count": 29,
   "id": "ab2912dd",
   "metadata": {},
   "outputs": [
    {
     "name": "stdout",
     "output_type": "stream",
     "text": [
      "请输入一个正整数：50 \n",
      "请输入一个正整数:12\n",
      "2\n"
     ]
    }
   ],
   "source": [
    "x=int(input(\"请输入一个正整数：\"))\n",
    "y=int(input(\"请输入一个正整数:\"))\n",
    "if x==y:\n",
    "    print(x)\n",
    "elif (x<y):\n",
    "    while x!=0:\n",
    "        a=y%x\n",
    "        y=x\n",
    "        x=a\n",
    "    print(y)\n",
    "elif x>y:\n",
    "    while y!=0:\n",
    "        a=x%y\n",
    "        x=y\n",
    "        y=a\n",
    "    print(x)"
   ]
  },
  {
   "cell_type": "raw",
   "id": "960634dd",
   "metadata": {},
   "source": [
    "2.用if语句实现百分制转等级制（考试成绩，60分以下不合格，60—74分合格，75—89分为良好，90分以上为优秀）"
   ]
  },
  {
   "cell_type": "code",
   "execution_count": 12,
   "id": "7ccb4386",
   "metadata": {},
   "outputs": [
    {
     "name": "stdout",
     "output_type": "stream",
     "text": [
      "请输入分数:89\n",
      "良好\n"
     ]
    }
   ],
   "source": [
    "s=float(input(\"请输入分数:\"))\n",
    "if s<60:\n",
    "    print(\"不合格\")\n",
    "elif (s>=60)and(s<=74):\n",
    "    print(\"合格\")\n",
    "elif s>=75 and s<=89:\n",
    "    print(\"良好\")\n",
    "elif s>=90:\n",
    "    print(\"优秀\")"
   ]
  },
  {
   "cell_type": "raw",
   "id": "3f3def66",
   "metadata": {},
   "source": [
    "3. 编写Python程序，完成十到二进制小数的转换"
   ]
  },
  {
   "cell_type": "code",
   "execution_count": 27,
   "id": "648dadd6",
   "metadata": {},
   "outputs": [
    {
     "name": "stdout",
     "output_type": "stream",
     "text": [
      "请输入一个小数:0.8125\n",
      "0.1101\n"
     ]
    }
   ],
   "source": [
    "x=float(input(\"请输入一个小数:\"))\n",
    "l=[]\n",
    "count=0\n",
    "while count<8 and x!=0:\n",
    "    x=x*2\n",
    "    if x<1.0:\n",
    "        l.append(\"0\")\n",
    "    elif x>=1.0:\n",
    "        l.append(\"1\")\n",
    "        x=x-1.0\n",
    "    count=count+1\n",
    "result = '0.' + ''.join(l)    \n",
    "print(result)\n"
   ]
  },
  {
   "cell_type": "raw",
   "id": "d10004fa",
   "metadata": {},
   "source": [
    "4. 编写Python程序，产生10-20的随机浮点数"
   ]
  },
  {
   "cell_type": "code",
   "execution_count": 14,
   "id": "ff5d6199",
   "metadata": {},
   "outputs": [
    {
     "name": "stdout",
     "output_type": "stream",
     "text": [
      "14.24508660067226\n"
     ]
    }
   ],
   "source": [
    "import random\n",
    "a=10.0\n",
    "b=20.0\n",
    "rnadom_float=random.uniform(a,b)\n",
    "print(rnadom_float)"
   ]
  },
  {
   "cell_type": "raw",
   "id": "5a0ae419",
   "metadata": {},
   "source": [
    "5. 编写一个Python函数，判断一个整数是否是回文数。回文数是指正序（从左向右）和倒序（从右向左）读都是一样的数。"
   ]
  },
  {
   "cell_type": "code",
   "execution_count": 48,
   "id": "35609cc2",
   "metadata": {},
   "outputs": [
    {
     "name": "stdout",
     "output_type": "stream",
     "text": [
      "请输入一个正整数:1234\n",
      "不是回文数\n"
     ]
    }
   ],
   "source": [
    "def test(x):\n",
    "    for i in range(0,18):\n",
    "        a=10**i\n",
    "        if (x/a<10):\n",
    "            return i+1\n",
    "x=input(\"请输入一个正整数:\")\n",
    "y=int(x)\n",
    "count=test(y)\n",
    "if count==1:\n",
    "    print(\"是回文数\")\n",
    "elif count!=1:\n",
    "    a=int(int(x)/2)\n",
    "    judge=0\n",
    "    for i in range(0,count):\n",
    "        if (x[i]!=x[count-i-1]):\n",
    "            judge=1\n",
    "            break\n",
    "    if (judge==1):\n",
    "        print(\"不是回文数\")\n",
    "    elif(judge==0):\n",
    "        print(\"是回文数\")"
   ]
  },
  {
   "cell_type": "raw",
   "id": "83aec2a4",
   "metadata": {},
   "source": [
    "6.编写一个Python函数，返回一个包含斐波那契数列的前N个数的列表。斐波那契数列是一个数列，其中每个数是前两个数的和，数列以0和1开始。"
   ]
  },
  {
   "cell_type": "code",
   "execution_count": 51,
   "id": "8950c2b2",
   "metadata": {},
   "outputs": [
    {
     "name": "stdout",
     "output_type": "stream",
     "text": [
      "请输入一个正整数：12\n",
      "[0, 1, 1, 2, 3, 5, 8, 13, 21, 34, 55, 89]\n"
     ]
    }
   ],
   "source": [
    "list=[0,1]\n",
    "n=int(input(\"请输入一个正整数：\"))\n",
    "if n==1:\n",
    "    print([0])\n",
    "elif n==2:\n",
    "    print([0,1])\n",
    "elif n>2:\n",
    "    for i in range(2,n):\n",
    "        a=list[i-1]+list[i-2]\n",
    "        list.append(a)\n",
    "    print(list)"
   ]
  },
  {
   "cell_type": "raw",
   "id": "3d2b72fe",
   "metadata": {},
   "source": [
    "7.编写一个Python函数，接受一个整数数组作为输入，返回数组中第二大的数。如果数组中只有一个元素或数组为空，则返回-1。"
   ]
  },
  {
   "cell_type": "code",
   "execution_count": 10,
   "id": "9aa31cfa",
   "metadata": {},
   "outputs": [
    {
     "name": "stdout",
     "output_type": "stream",
     "text": [
      "6\n",
      "-1\n",
      "12\n"
     ]
    }
   ],
   "source": [
    "def test(arr):\n",
    "    a=len(arr)\n",
    "    if a<=1:\n",
    "        return -1\n",
    "    elif a>1:\n",
    "        arr1=sorted(arr)\n",
    "        return arr1[a-2]\n",
    "print(test([3,6,1,10]))\n",
    "print(test([1]))\n",
    "print(test([6,10,98,12,5]))"
   ]
  },
  {
   "cell_type": "raw",
   "id": "95fc8b69",
   "metadata": {},
   "source": [
    "8. 编写一个函数，使其能够用正则表达式的方式简单验证身份证号是否合法。"
   ]
  },
  {
   "cell_type": "code",
   "execution_count": 28,
   "id": "1dd62d5f",
   "metadata": {},
   "outputs": [
    {
     "name": "stdout",
     "output_type": "stream",
     "text": [
      "11010519491231002X: True\n",
      "110105194912310029: True\n",
      "010105194912310029: False\n",
      "110105194913310029: False\n",
      "110105194902323229: False\n",
      "11010519491231002: False\n",
      "11010519491231002A: False\n"
     ]
    }
   ],
   "source": [
    "import re  \n",
    "  \n",
    "def validate_id_card(id_card):  \n",
    "    \n",
    "    # 定义正则表达式模式  \n",
    "    pattern = r'^[1-9]\\d{5}(19|20)\\d{2}(0[1-9]|1[0-2])(0[1-9]|[1-2]\\d|3[0-1])\\d{3}(\\d|X|x)$'  \n",
    "      \n",
    "    # 使用re.match()函数进行匹配  \n",
    "    if re.match(pattern, id_card):  \n",
    "        return True  \n",
    "    else:  \n",
    "        return False  \n",
    "  \n",
    "# 测试函数  \n",
    "test_ids = [  \n",
    "    \"11010519491231002X\",  # 合法的身份证号（带X）  \n",
    "    \"110105194912310029\",  # 合法的身份证号（不带X）  \n",
    "    \"010105194912310029\",  # 非法的身份证号（以0开头）  \n",
    "    \"110105194913310029\",  # 非法的身份证号（月份非法，13月不存在）  \n",
    "    \"110105194902323229\",  # 非法的身份证号（日期非法，32日不存在）  \n",
    "    \"11010519491231002\",   # 非法的身份证号（长度不足）  \n",
    "    \"11010519491231002A\",  # 非法的身份证号（校验码非法，不是数字或X）  \n",
    "]  \n",
    "  \n",
    "# 输出测试结果  \n",
    "for test_id in test_ids:  \n",
    "    print(f\"{test_id}: {validate_id_card(test_id)}\")"
   ]
  }
 ],
 "metadata": {
  "kernelspec": {
   "display_name": "Python 3",
   "language": "python",
   "name": "python3"
  },
  "language_info": {
   "codemirror_mode": {
    "name": "ipython",
    "version": 3
   },
   "file_extension": ".py",
   "mimetype": "text/x-python",
   "name": "python",
   "nbconvert_exporter": "python",
   "pygments_lexer": "ipython3",
   "version": "3.8.8"
  }
 },
 "nbformat": 4,
 "nbformat_minor": 5
}
